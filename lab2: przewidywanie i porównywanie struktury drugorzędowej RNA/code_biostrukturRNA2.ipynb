{
 "cells": [
  {
   "cell_type": "markdown",
   "metadata": {},
   "source": [
    "Zaimplementuj miarę INF dla struktur w formacie dot-bracket. Do raportu dołącz kod oraz przedstaw wyniki dla struktur otrzymanych wcześniej (ocena 4.0)"
   ]
  },
  {
   "cell_type": "code",
   "execution_count": 17,
   "metadata": {},
   "outputs": [
    {
     "name": "stdout",
     "output_type": "stream",
     "text": [
      "INF: 0.36\n"
     ]
    }
   ],
   "source": [
    "def dotbracket_pairs(dotbracket):\n",
    "    stack = []\n",
    "    pairs = set()\n",
    "    for i, char in enumerate(dotbracket):\n",
    "        if char == '(':\n",
    "            stack.append(i)\n",
    "        elif char == ')':\n",
    "            if stack:\n",
    "                j = stack.pop()\n",
    "                pairs.add((j, i))\n",
    "    return pairs\n",
    "\n",
    "def calculate_inf(x, z):\n",
    "    a = dotbracket_pairs(x)\n",
    "    b = dotbracket_pairs(z)\n",
    "    \n",
    "    TP = a & b\n",
    "    FN = a - b\n",
    "    FP = b - a\n",
    "\n",
    "    if len(TP) == 0:\n",
    "        return 0\n",
    "\n",
    "    INF = (len(TP) / (len(TP) + len(FN))) * (len(TP) / (len(TP) + len(FP)))\n",
    "    return INF\n",
    "\n",
    "turbofold = \".................((((((((((.....))))))))))..(((((....))))).(((((.......))))).........\"\n",
    "locarna = \".........(((.....((((((((.........))))))))..((((......)))).(((((...-....))))).....))).\"\n",
    "\n",
    "\n",
    "\n",
    "#def read_file(filepath):\n",
    "#    with open(filepath, 'r') as file:\n",
    "#        return file.readline().strip()\n",
    "\n",
    "#turbofold = read_file('turbofold.txt')\n",
    "#locarna = read_file('locarna.txt')\n",
    "\n",
    "\n",
    "inf = calculate_inf(turbofold, locarna)\n",
    "\n",
    "print(f\"INF: {inf:.2f}\")\n"
   ]
  },
  {
   "cell_type": "markdown",
   "metadata": {},
   "source": [
    "Zaimplementuj algorytm wyznaczania odległości Levenshteina dla struktur w formacie dot-bracket. Do raportu dołącz kod oraz wyniki dla struktur otrzymanych wcześniej (ocena 4.5)"
   ]
  },
  {
   "cell_type": "code",
   "execution_count": 18,
   "metadata": {},
   "outputs": [
    {
     "name": "stdout",
     "output_type": "stream",
     "text": [
      "Levenshtein distance: 13\n"
     ]
    }
   ],
   "source": [
    "def levenshtein(s, t):\n",
    "    m, n = len(s), len(t)\n",
    "    d = [[0] * (n+1) for _ in range(m+1)]\n",
    "\n",
    "    for i in range(m+1):\n",
    "        d[i][0] = i\n",
    "    for j in range(n+1):\n",
    "        d[0][j] = j\n",
    "\n",
    "    for i in range(1, m+1):\n",
    "        for j in range(1, n+1):\n",
    "            cost = 0 if s[i-1] == t[j-1] else 1\n",
    "            d[i][j] = min(d[i-1][j] + 1,       \n",
    "                          d[i][j-1] + 1,       \n",
    "                          d[i-1][j-1] + cost)  \n",
    "\n",
    "    return d[m][n]\n",
    "\n",
    "result = levenshtein(turbofold, locarna)\n",
    "print(f\"Levenshtein distance: {result}\")\n"
   ]
  }
 ],
 "metadata": {
  "kernelspec": {
   "display_name": "base",
   "language": "python",
   "name": "python3"
  },
  "language_info": {
   "codemirror_mode": {
    "name": "ipython",
    "version": 3
   },
   "file_extension": ".py",
   "mimetype": "text/x-python",
   "name": "python",
   "nbconvert_exporter": "python",
   "pygments_lexer": "ipython3",
   "version": "3.11.5"
  }
 },
 "nbformat": 4,
 "nbformat_minor": 2
}
